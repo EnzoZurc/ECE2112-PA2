{
 "cells": [
  {
   "cell_type": "markdown",
   "id": "f7213d50-7bf4-4dc2-bf80-7aa21fb27c5f",
   "metadata": {},
   "source": [
    "# PA2 Numerical Python"
   ]
  },
  {
   "cell_type": "markdown",
   "id": "118c11f1-81e6-428f-a1b9-c999e120b37d",
   "metadata": {},
   "source": [
    "### NORMALIZATION PROBLEM"
   ]
  },
  {
   "cell_type": "code",
   "execution_count": 5,
   "id": "5739f2dd-835d-421a-898c-1a6f98a8c6a8",
   "metadata": {},
   "outputs": [],
   "source": [
    "#importing numpy as np\n",
    "import numpy as np"
   ]
  },
  {
   "cell_type": "code",
   "execution_count": 7,
   "id": "a7a15eac-bd3e-407f-bb1d-2f79eba48404",
   "metadata": {},
   "outputs": [],
   "source": [
    "#creating a random 5x5 array\n",
    "X = np.random.rand(5,5)"
   ]
  },
  {
   "cell_type": "code",
   "execution_count": 17,
   "id": "fc99f125-8809-4670-840a-acaaa22cf7e2",
   "metadata": {},
   "outputs": [
    {
     "name": "stdout",
     "output_type": "stream",
     "text": [
      "Original array X:\n",
      "[[0.10757796 0.29269355 0.73954088 0.49432014 0.25602148]\n",
      " [0.66124186 0.17117618 0.47778438 0.93699211 0.30398111]\n",
      " [0.63357976 0.01985227 0.67968863 0.5756826  0.05940622]\n",
      " [0.69273729 0.4061485  0.64454351 0.59346708 0.47588203]\n",
      " [0.22021457 0.63532282 0.94479499 0.79000175 0.40865083]]\n"
     ]
    }
   ],
   "source": [
    "print(\"Original array X:\")\n",
    "print(X)"
   ]
  },
  {
   "cell_type": "code",
   "execution_count": 19,
   "id": "4267e069-2bb8-4ada-8296-187d1ae7e9f5",
   "metadata": {},
   "outputs": [],
   "source": [
    "#calculating for the mean and standard deviation\n",
    "mean_X = X.mean()\n",
    "std_X = X.std()"
   ]
  },
  {
   "cell_type": "code",
   "execution_count": 23,
   "id": "943c0288-8d00-4253-b59a-123377428b24",
   "metadata": {},
   "outputs": [],
   "source": [
    "#Normalizing the array\n",
    "X_normalized = (X - mean_X) / std_X"
   ]
  },
  {
   "cell_type": "code",
   "execution_count": 27,
   "id": "2c150fd3-b291-45c0-9446-7d7126efa64d",
   "metadata": {},
   "outputs": [
    {
     "name": "stdout",
     "output_type": "stream",
     "text": [
      "Normalized array:\n",
      "[[-1.49853771 -0.77097013  0.98529258  0.02149128 -0.91510391]\n",
      " [ 0.67755067 -1.24857494 -0.04349993  1.76134344 -0.72660619]\n",
      " [ 0.56882919 -1.84332966  0.75005279  0.34127354 -1.68786911]\n",
      " [ 0.80133851 -0.32505342  0.61192046  0.41117261 -0.05097681]\n",
      " [-1.05583734  0.57567999  1.79201142  1.18362107 -0.31521839]]\n"
     ]
    }
   ],
   "source": [
    "#output of normalized array\n",
    "print(\"Normalized array:\")\n",
    "print(X_normalized)"
   ]
  },
  {
   "cell_type": "code",
   "execution_count": 39,
   "id": "23b3537c-9d83-47fb-b9b5-4ffbaa7211f7",
   "metadata": {},
   "outputs": [],
   "source": [
    "#saving the normalized array in a file\n",
    "np.save('X_normalized.npy', X_normalized)"
   ]
  },
  {
   "cell_type": "code",
   "execution_count": 46,
   "id": "ef573980-e1fc-46d6-9cdd-c89dbdc59857",
   "metadata": {},
   "outputs": [
    {
     "name": "stdout",
     "output_type": "stream",
     "text": [
      "Normalized array has been saved to 'X_normalized.npy'\n"
     ]
    }
   ],
   "source": [
    "print(\"Normalized array has been saved to 'X_normalized.npy'\")"
   ]
  },
  {
   "cell_type": "code",
   "execution_count": 48,
   "id": "907f02d9-c1de-4dc8-aa8d-9f3716622a5b",
   "metadata": {},
   "outputs": [
    {
     "data": {
      "text/plain": [
       "array([[-1.49853771, -0.77097013,  0.98529258,  0.02149128, -0.91510391],\n",
       "       [ 0.67755067, -1.24857494, -0.04349993,  1.76134344, -0.72660619],\n",
       "       [ 0.56882919, -1.84332966,  0.75005279,  0.34127354, -1.68786911],\n",
       "       [ 0.80133851, -0.32505342,  0.61192046,  0.41117261, -0.05097681],\n",
       "       [-1.05583734,  0.57567999,  1.79201142,  1.18362107, -0.31521839]])"
      ]
     },
     "execution_count": 48,
     "metadata": {},
     "output_type": "execute_result"
    }
   ],
   "source": [
    "#loading the saved file\n",
    "np.load('X_normalized.npy')"
   ]
  },
  {
   "cell_type": "markdown",
   "id": "a9f8e0c6-afa7-43ed-ad31-7b160b9c6b5c",
   "metadata": {},
   "source": [
    "## DIVISIBLE BY 3 PROBLEM"
   ]
  },
  {
   "cell_type": "code",
   "execution_count": 50,
   "id": "41884070-3548-46c3-be7f-0430f254cfaf",
   "metadata": {},
   "outputs": [],
   "source": [
    "#importing numpy as np\n",
    "import numpy as np"
   ]
  },
  {
   "cell_type": "code",
   "execution_count": 52,
   "id": "665a9c24-502a-4cc1-88af-ee7eba50b29f",
   "metadata": {},
   "outputs": [],
   "source": [
    "# Creating the 10x10 array where each element is the square of integers from 1 to 100\n",
    "A = np.array([i**2 for i in range(1, 101)]).reshape(10, 10)"
   ]
  },
  {
   "cell_type": "code",
   "execution_count": 54,
   "id": "c8d46c77-d2aa-4c1b-aa13-9c19642492b0",
   "metadata": {},
   "outputs": [
    {
     "name": "stdout",
     "output_type": "stream",
     "text": [
      "Array A (squares of integers from 1 to 100):\n",
      "[[    1     4     9    16    25    36    49    64    81   100]\n",
      " [  121   144   169   196   225   256   289   324   361   400]\n",
      " [  441   484   529   576   625   676   729   784   841   900]\n",
      " [  961  1024  1089  1156  1225  1296  1369  1444  1521  1600]\n",
      " [ 1681  1764  1849  1936  2025  2116  2209  2304  2401  2500]\n",
      " [ 2601  2704  2809  2916  3025  3136  3249  3364  3481  3600]\n",
      " [ 3721  3844  3969  4096  4225  4356  4489  4624  4761  4900]\n",
      " [ 5041  5184  5329  5476  5625  5776  5929  6084  6241  6400]\n",
      " [ 6561  6724  6889  7056  7225  7396  7569  7744  7921  8100]\n",
      " [ 8281  8464  8649  8836  9025  9216  9409  9604  9801 10000]]\n"
     ]
    }
   ],
   "source": [
    "# Printing the array\n",
    "print(\"Array A (squares of integers from 1 to 100):\")\n",
    "print(A)"
   ]
  },
  {
   "cell_type": "code",
   "execution_count": 66,
   "id": "8727940a-3dd9-4770-907d-95f733f0edd1",
   "metadata": {},
   "outputs": [],
   "source": [
    "#function to find which elements are divisible by 3\n",
    "divisible_by_3 = A[A % 3 == 0]"
   ]
  },
  {
   "cell_type": "code",
   "execution_count": 68,
   "id": "8d28afc5-6737-4881-8fc3-9899d007ab83",
   "metadata": {},
   "outputs": [
    {
     "name": "stdout",
     "output_type": "stream",
     "text": [
      "Elements Divisible by 3: \n",
      "[   9   36   81  144  225  324  441  576  729  900 1089 1296 1521 1764\n",
      " 2025 2304 2601 2916 3249 3600 3969 4356 4761 5184 5625 6084 6561 7056\n",
      " 7569 8100 8649 9216 9801]\n"
     ]
    }
   ],
   "source": [
    "#printing the elements that are divisible by 3\n",
    "print(\"Elements Divisible by 3: \")\n",
    "print(divisible_by_3)"
   ]
  },
  {
   "cell_type": "code",
   "execution_count": 70,
   "id": "3413707b-fa06-4a82-92d1-dd37a7bf5bf8",
   "metadata": {},
   "outputs": [],
   "source": [
    "# Save the result to a file\n",
    "np.save('div_by_3.npy', div_by_3)"
   ]
  },
  {
   "cell_type": "code",
   "execution_count": 74,
   "id": "fa8b9688-c049-4af5-a3ff-147674b8ea70",
   "metadata": {},
   "outputs": [
    {
     "data": {
      "text/plain": [
       "array([   9,   36,   81,  144,  225,  324,  441,  576,  729,  900, 1089,\n",
       "       1296, 1521, 1764, 2025, 2304, 2601, 2916, 3249, 3600, 3969, 4356,\n",
       "       4761, 5184, 5625, 6084, 6561, 7056, 7569, 8100, 8649, 9216, 9801])"
      ]
     },
     "execution_count": 74,
     "metadata": {},
     "output_type": "execute_result"
    }
   ],
   "source": [
    "#loading the saved file\n",
    "np.load('div_by_3.npy')"
   ]
  }
 ],
 "metadata": {
  "kernelspec": {
   "display_name": "Python 3 (ipykernel)",
   "language": "python",
   "name": "python3"
  },
  "language_info": {
   "codemirror_mode": {
    "name": "ipython",
    "version": 3
   },
   "file_extension": ".py",
   "mimetype": "text/x-python",
   "name": "python",
   "nbconvert_exporter": "python",
   "pygments_lexer": "ipython3",
   "version": "3.12.4"
  }
 },
 "nbformat": 4,
 "nbformat_minor": 5
}
